{
 "cells": [
  {
   "cell_type": "markdown",
   "metadata": {},
   "source": [
    "# Data Exploration"
   ]
  },
  {
   "cell_type": "markdown",
   "metadata": {},
   "source": [
    "The purpose of this notebook is to perform exploratory data analysis tasks to provide insights into the data that can further lead us towards understanding user/offer type match. This notebook is built using the cleaned data sets from the Data Wrangling notebooks.\n",
    "\n",
    "In this analysis, I treat the other 2 offer types, bogo and discount, separately. At this point, we do not know whether or not users who are responsive to bogo offers are also responsive to discount offers, hence, we should analyze data for these two categories of offers separately. \n",
    "\n",
    "For each offer type, I compare Respond Yes group to Respond No group using these guidance questions and common assumptions:\n",
    "1. Do users who respond yes to offers also spend more on the app in general?\n",
    "2. How is income correlated with total spending? Do users with higher spending also have higher income? \n",
    "3. How is age related to response?\n",
    "4. How is number of transactions related to response? (Assumption: user who is already more active on the app would be more likely to respond yes to offer)\n",
    "5. Do users who respond yes also have more reward points? (Assumption: users who are engaged and motivated to earn more points would be more likely to respond yes to offers)\n",
    "6. How does a user's membership length affect their response?\n",
    "7. Does a user's gender affect response?\n",
    "8. Does a user's average spending amount per transaction affect their response?\n",
    "\n",
    "Note: Although \"informational\" offer type is included in the dataset, we should remove it from the data analysis. \"Informational\" offers have difficulty value of 0, which means that they do not cost Starbucks anything to send out, so we assume that Starbucks should send informational offers to _all_ of its reward users to inform them of new products. "
   ]
  },
  {
   "cell_type": "markdown",
   "metadata": {},
   "source": [
    "## Import libraries and data sets"
   ]
  },
  {
   "cell_type": "code",
   "execution_count": 1,
   "metadata": {},
   "outputs": [],
   "source": [
    "import pandas as pd\n",
    "import numpy as np\n",
    "import matplotlib.pyplot as plt\n",
    "import seaborn as sns\n",
    "import scipy.stats as stats\n",
    "\n",
    "# read in the csv files\n",
    "offer_response = pd.read_csv('data/offer_response.csv')\n",
    "user = pd.read_csv('data/profile_cleaned.csv')"
   ]
  },
  {
   "cell_type": "code",
   "execution_count": 2,
   "metadata": {},
   "outputs": [],
   "source": [
    "# Merge profile and number of offers completed\n",
    "df = pd.merge(offer_response, \n",
    "             user, \n",
    "             how='left', \n",
    "             on=['person'])"
   ]
  },
  {
   "cell_type": "code",
   "execution_count": 3,
   "metadata": {},
   "outputs": [],
   "source": [
    "# TODO: explore NaNs"
   ]
  },
  {
   "cell_type": "code",
   "execution_count": 4,
   "metadata": {},
   "outputs": [],
   "source": [
    "df = df.dropna().replace({True:1,False:0})"
   ]
  },
  {
   "cell_type": "markdown",
   "metadata": {},
   "source": [
    "## BOGO - Data Exploration"
   ]
  },
  {
   "cell_type": "code",
   "execution_count": 5,
   "metadata": {},
   "outputs": [],
   "source": [
    "bogo_df = df[df.offer_type == 'bogo']"
   ]
  },
  {
   "cell_type": "code",
   "execution_count": 6,
   "metadata": {},
   "outputs": [
    {
     "data": {
      "text/html": [
       "<div>\n",
       "<style scoped>\n",
       "    .dataframe tbody tr th:only-of-type {\n",
       "        vertical-align: middle;\n",
       "    }\n",
       "\n",
       "    .dataframe tbody tr th {\n",
       "        vertical-align: top;\n",
       "    }\n",
       "\n",
       "    .dataframe thead th {\n",
       "        text-align: right;\n",
       "    }\n",
       "</style>\n",
       "<table border=\"1\" class=\"dataframe\">\n",
       "  <thead>\n",
       "    <tr style=\"text-align: right;\">\n",
       "      <th></th>\n",
       "      <th>completed_offer</th>\n",
       "      <th>age</th>\n",
       "      <th>income</th>\n",
       "      <th>membership_length</th>\n",
       "      <th>total_spending</th>\n",
       "      <th>response_rate</th>\n",
       "      <th>total_transactions</th>\n",
       "      <th>avg_spent_per_transaction</th>\n",
       "      <th>total_rewards</th>\n",
       "    </tr>\n",
       "  </thead>\n",
       "  <tbody>\n",
       "    <tr>\n",
       "      <th>count</th>\n",
       "      <td>14941.000000</td>\n",
       "      <td>14941.000000</td>\n",
       "      <td>14941.000000</td>\n",
       "      <td>14941.000000</td>\n",
       "      <td>14941.000000</td>\n",
       "      <td>14941.000000</td>\n",
       "      <td>14941.000000</td>\n",
       "      <td>14941.000000</td>\n",
       "      <td>14941.000000</td>\n",
       "    </tr>\n",
       "    <tr>\n",
       "      <th>mean</th>\n",
       "      <td>0.605314</td>\n",
       "      <td>55.052005</td>\n",
       "      <td>67525.332976</td>\n",
       "      <td>1161.338799</td>\n",
       "      <td>146.347012</td>\n",
       "      <td>0.590831</td>\n",
       "      <td>9.645004</td>\n",
       "      <td>17.288406</td>\n",
       "      <td>16.351315</td>\n",
       "    </tr>\n",
       "    <tr>\n",
       "      <th>std</th>\n",
       "      <td>0.488799</td>\n",
       "      <td>16.969140</td>\n",
       "      <td>21416.725910</td>\n",
       "      <td>417.575322</td>\n",
       "      <td>137.748989</td>\n",
       "      <td>0.240720</td>\n",
       "      <td>5.279720</td>\n",
       "      <td>16.212098</td>\n",
       "      <td>9.480823</td>\n",
       "    </tr>\n",
       "    <tr>\n",
       "      <th>min</th>\n",
       "      <td>0.000000</td>\n",
       "      <td>18.000000</td>\n",
       "      <td>30000.000000</td>\n",
       "      <td>587.000000</td>\n",
       "      <td>5.280000</td>\n",
       "      <td>0.166667</td>\n",
       "      <td>1.000000</td>\n",
       "      <td>1.311667</td>\n",
       "      <td>2.000000</td>\n",
       "    </tr>\n",
       "    <tr>\n",
       "      <th>25%</th>\n",
       "      <td>0.000000</td>\n",
       "      <td>44.000000</td>\n",
       "      <td>52000.000000</td>\n",
       "      <td>833.000000</td>\n",
       "      <td>60.780000</td>\n",
       "      <td>0.400000</td>\n",
       "      <td>6.000000</td>\n",
       "      <td>8.743750</td>\n",
       "      <td>9.000000</td>\n",
       "    </tr>\n",
       "    <tr>\n",
       "      <th>50%</th>\n",
       "      <td>1.000000</td>\n",
       "      <td>56.000000</td>\n",
       "      <td>66000.000000</td>\n",
       "      <td>1061.000000</td>\n",
       "      <td>118.420000</td>\n",
       "      <td>0.600000</td>\n",
       "      <td>9.000000</td>\n",
       "      <td>16.260000</td>\n",
       "      <td>15.000000</td>\n",
       "    </tr>\n",
       "    <tr>\n",
       "      <th>75%</th>\n",
       "      <td>1.000000</td>\n",
       "      <td>67.000000</td>\n",
       "      <td>83000.000000</td>\n",
       "      <td>1438.000000</td>\n",
       "      <td>187.520000</td>\n",
       "      <td>0.800000</td>\n",
       "      <td>13.000000</td>\n",
       "      <td>22.408571</td>\n",
       "      <td>23.000000</td>\n",
       "    </tr>\n",
       "    <tr>\n",
       "      <th>max</th>\n",
       "      <td>1.000000</td>\n",
       "      <td>101.000000</td>\n",
       "      <td>120000.000000</td>\n",
       "      <td>2410.000000</td>\n",
       "      <td>1608.690000</td>\n",
       "      <td>1.000000</td>\n",
       "      <td>36.000000</td>\n",
       "      <td>301.310000</td>\n",
       "      <td>55.000000</td>\n",
       "    </tr>\n",
       "  </tbody>\n",
       "</table>\n",
       "</div>"
      ],
      "text/plain": [
       "       completed_offer           age         income  membership_length  \\\n",
       "count     14941.000000  14941.000000   14941.000000       14941.000000   \n",
       "mean          0.605314     55.052005   67525.332976        1161.338799   \n",
       "std           0.488799     16.969140   21416.725910         417.575322   \n",
       "min           0.000000     18.000000   30000.000000         587.000000   \n",
       "25%           0.000000     44.000000   52000.000000         833.000000   \n",
       "50%           1.000000     56.000000   66000.000000        1061.000000   \n",
       "75%           1.000000     67.000000   83000.000000        1438.000000   \n",
       "max           1.000000    101.000000  120000.000000        2410.000000   \n",
       "\n",
       "       total_spending  response_rate  total_transactions  \\\n",
       "count    14941.000000   14941.000000        14941.000000   \n",
       "mean       146.347012       0.590831            9.645004   \n",
       "std        137.748989       0.240720            5.279720   \n",
       "min          5.280000       0.166667            1.000000   \n",
       "25%         60.780000       0.400000            6.000000   \n",
       "50%        118.420000       0.600000            9.000000   \n",
       "75%        187.520000       0.800000           13.000000   \n",
       "max       1608.690000       1.000000           36.000000   \n",
       "\n",
       "       avg_spent_per_transaction  total_rewards  \n",
       "count               14941.000000   14941.000000  \n",
       "mean                   17.288406      16.351315  \n",
       "std                    16.212098       9.480823  \n",
       "min                     1.311667       2.000000  \n",
       "25%                     8.743750       9.000000  \n",
       "50%                    16.260000      15.000000  \n",
       "75%                    22.408571      23.000000  \n",
       "max                   301.310000      55.000000  "
      ]
     },
     "execution_count": 6,
     "metadata": {},
     "output_type": "execute_result"
    }
   ],
   "source": [
    "bogo_df.describe()"
   ]
  },
  {
   "cell_type": "markdown",
   "metadata": {},
   "source": [
    "## Discount - Data Exploration"
   ]
  },
  {
   "cell_type": "code",
   "execution_count": null,
   "metadata": {},
   "outputs": [],
   "source": [
    "discount_df = df[df.offer_type == 'discount']"
   ]
  }
 ],
 "metadata": {
  "kernelspec": {
   "display_name": "Python 3",
   "language": "python",
   "name": "python3"
  },
  "language_info": {
   "codemirror_mode": {
    "name": "ipython",
    "version": 3
   },
   "file_extension": ".py",
   "mimetype": "text/x-python",
   "name": "python",
   "nbconvert_exporter": "python",
   "pygments_lexer": "ipython3",
   "version": "3.7.4"
  }
 },
 "nbformat": 4,
 "nbformat_minor": 4
}
