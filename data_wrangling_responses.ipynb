{
 "cells": [
  {
   "cell_type": "markdown",
   "metadata": {},
   "source": [
    "# Data Wrangling - Responses"
   ]
  },
  {
   "cell_type": "markdown",
   "metadata": {},
   "source": [
    "The purpose of this notebook is to prepare the transcript data to provide a usable dataset for data exploration and modeling steps. The output of this notebook is a csv file containing data on whether a user responds Yes or No to an offer type.\n",
    "The cleaning steps are:\n",
    "1. Separate the dataset into 4 separate dataframes, 'received', 'viewed', 'completed', 'transactions'\n",
    "2. Merge and filter the 4 dataframes back into one dataframe"
   ]
  },
  {
   "cell_type": "markdown",
   "metadata": {},
   "source": [
    "## Import libraries and datasets "
   ]
  },
  {
   "cell_type": "code",
   "execution_count": 1,
   "metadata": {},
   "outputs": [],
   "source": [
    "import pandas as pd\n",
    "import numpy as np\n",
    "import json\n",
    "from pandas.io.json import json_normalize\n",
    "\n",
    "# read in the json files\n",
    "portfolio = pd.read_json('data/portfolio.json', orient='records', lines=True)\n",
    "profile = pd.read_json('data/profile.json', orient='records', lines=True)\n",
    "transcript = pd.read_json('data/transcript.json', orient='records', lines=True)"
   ]
  },
  {
   "cell_type": "code",
   "execution_count": 2,
   "metadata": {},
   "outputs": [
    {
     "name": "stderr",
     "output_type": "stream",
     "text": [
      "/anaconda3/lib/python3.7/site-packages/ipykernel_launcher.py:2: FutureWarning: pandas.io.json.json_normalize is deprecated, use pandas.json_normalize instead\n",
      "  \n"
     ]
    }
   ],
   "source": [
    "# Convert 'value' column into separate columns\n",
    "transcript_values = json_normalize(transcript['value'])\n",
    "transcript = pd.concat([transcript, transcript_values],axis=1)\n",
    "transcript = transcript.drop(columns=['value'])"
   ]
  },
  {
   "cell_type": "code",
   "execution_count": 3,
   "metadata": {},
   "outputs": [],
   "source": [
    "# Combine 'offer id' and 'offer_id' columns\n",
    "transcript['offer_id'] = transcript['offer_id'].fillna(transcript['offer id'])\n",
    "transcript = transcript.drop(columns='offer id')"
   ]
  },
  {
   "cell_type": "code",
   "execution_count": 4,
   "metadata": {},
   "outputs": [],
   "source": [
    "# Separate the dataset into 4 separate dataframes, 'received', 'viewed', 'completed', 'transactions'\n",
    "received = transcript[transcript['event']=='offer received']\n",
    "viewed = transcript[transcript['event']=='offer viewed']\n",
    "completed = transcript[transcript['event']=='offer completed']\n",
    "transaction = transcript[transcript['event']=='transaction']"
   ]
  },
  {
   "cell_type": "code",
   "execution_count": 5,
   "metadata": {},
   "outputs": [],
   "source": [
    "# Merge received and viewed dataframes\n",
    "received_w_viewed = pd.merge(received[['person','offer_id','time']], \n",
    "                             viewed[['person','offer_id','time']], \n",
    "                             how='left', \n",
    "                             on=['person', 'offer_id'])\n",
    "received_w_viewed = received_w_viewed.rename(columns={\"time_x\": \"received_time\", \n",
    "                                                      \"time_y\": \"viewed_time\"})"
   ]
  },
  {
   "cell_type": "code",
   "execution_count": 6,
   "metadata": {},
   "outputs": [],
   "source": [
    "view_after_receive = received_w_viewed[received_w_viewed.viewed_time >= received_w_viewed.received_time]\n",
    "view_after_receive = view_after_receive.drop_duplicates(subset=['person','offer_id','received_time'])"
   ]
  },
  {
   "cell_type": "code",
   "execution_count": 7,
   "metadata": {},
   "outputs": [],
   "source": [
    "# Merge received and viewed and completed\n",
    "completed_w_viewed = pd.merge(view_after_receive, \n",
    "                             completed[['person','offer_id','time','reward']], \n",
    "                             how='left', \n",
    "                             on=['person', 'offer_id'])\n",
    "completed_w_viewed = completed_w_viewed.rename(columns={'time':'completed_time'})"
   ]
  },
  {
   "cell_type": "code",
   "execution_count": 8,
   "metadata": {},
   "outputs": [],
   "source": [
    "complete = completed_w_viewed[~(completed_w_viewed.completed_time<completed_w_viewed.viewed_time)]"
   ]
  },
  {
   "cell_type": "code",
   "execution_count": 9,
   "metadata": {},
   "outputs": [],
   "source": [
    "complete = complete.drop_duplicates(subset=['person','offer_id','received_time','viewed_time'])"
   ]
  },
  {
   "cell_type": "code",
   "execution_count": 10,
   "metadata": {},
   "outputs": [],
   "source": [
    "complete = complete.drop_duplicates(subset=['person','offer_id','completed_time'], keep='last')"
   ]
  },
  {
   "cell_type": "code",
   "execution_count": 11,
   "metadata": {},
   "outputs": [],
   "source": [
    "# Rename 'id' column to 'offer_id' to match transcript\n",
    "portfolio = portfolio.rename(columns={'id':'offer_id'})"
   ]
  },
  {
   "cell_type": "code",
   "execution_count": 12,
   "metadata": {},
   "outputs": [],
   "source": [
    "# Merge portfolio and completed\n",
    "df = pd.merge(complete, \n",
    "             portfolio[['offer_id','duration','offer_type']], \n",
    "             how='left', \n",
    "             on=['offer_id'])"
   ]
  },
  {
   "cell_type": "code",
   "execution_count": 13,
   "metadata": {},
   "outputs": [],
   "source": [
    "df['completed_offer'] =  (df.completed_time != None) & (df.viewed_time != None) & ((df.completed_time - df.received_time)/24 < df.duration) & (df.viewed_time < df.completed_time) "
   ]
  },
  {
   "cell_type": "code",
   "execution_count": 14,
   "metadata": {},
   "outputs": [],
   "source": [
    "offer_response = df[['person','completed_offer','offer_type']]"
   ]
  },
  {
   "cell_type": "code",
   "execution_count": 15,
   "metadata": {},
   "outputs": [],
   "source": [
    "# export offer completion data to csv\n",
    "offer_response.to_csv('data/offer_response.csv',index=False) "
   ]
  }
 ],
 "metadata": {
  "kernelspec": {
   "display_name": "Python 3",
   "language": "python",
   "name": "python3"
  },
  "language_info": {
   "codemirror_mode": {
    "name": "ipython",
    "version": 3
   },
   "file_extension": ".py",
   "mimetype": "text/x-python",
   "name": "python",
   "nbconvert_exporter": "python",
   "pygments_lexer": "ipython3",
   "version": "3.7.4"
  }
 },
 "nbformat": 4,
 "nbformat_minor": 4
}
