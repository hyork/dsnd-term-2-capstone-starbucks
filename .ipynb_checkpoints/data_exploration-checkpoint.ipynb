{
 "cells": [
  {
   "cell_type": "markdown",
   "metadata": {},
   "source": [
    "# Data Exploration"
   ]
  },
  {
   "cell_type": "markdown",
   "metadata": {},
   "source": [
    "Compare groups with yes response to offer with group with no response to offer on all of spectrum and observe the results\n",
    "1. Users who respond yes to offers also spend more on the app in general?\n",
    "2. How is income correlated with total spending? Do users with higher spending also have higher income? \n",
    "3. How is age related to response?\n",
    "4. How is number of transactions related to response? We would normally assume that a user who is already more active on the app would be more likely to respond yes to offer?\n",
    "5. We would assume that users with lots of reward points would be more likely to respond yes to offer? Is that so?\n",
    "6. How does a user's membership length affect response?\n",
    "7. Does a user's gender affect response?\n",
    "8. Does a user's average spending amount per transaction affect their response?"
   ]
  },
  {
   "cell_type": "code",
   "execution_count": 2,
   "metadata": {},
   "outputs": [],
   "source": [
    "import pandas as pd\n",
    "import numpy as np\n",
    "import matplotlib.pyplot as plt\n",
    "import seaborn as sns\n",
    "import scipy.stats as stats\n",
    "\n",
    "# read in the csv files\n",
    "offer_response = pd.read_csv('data/offer_response.csv')\n",
    "user = pd.read_csv('data/profile_cleaned.csv')"
   ]
  },
  {
   "cell_type": "code",
   "execution_count": null,
   "metadata": {},
   "outputs": [],
   "source": [
    "# Merge profile and number of offers completed\n",
    "df = pd.merge(offer_response, \n",
    "             user, \n",
    "             how='left', \n",
    "             on=['person'])"
   ]
  },
  {
   "cell_type": "code",
   "execution_count": null,
   "metadata": {},
   "outputs": [],
   "source": [
    "# TODO: explore NaNs"
   ]
  },
  {
   "cell_type": "code",
   "execution_count": null,
   "metadata": {},
   "outputs": [],
   "source": [
    "df = df.dropna().replace({True:1,False:0})"
   ]
  },
  {
   "cell_type": "markdown",
   "metadata": {},
   "source": [
    "## Explore data for bogo offer type"
   ]
  },
  {
   "cell_type": "code",
   "execution_count": null,
   "metadata": {},
   "outputs": [],
   "source": [
    "bogo_df = df[df.offer_type == 'bogo']"
   ]
  },
  {
   "cell_type": "code",
   "execution_count": null,
   "metadata": {},
   "outputs": [],
   "source": []
  }
 ],
 "metadata": {
  "kernelspec": {
   "display_name": "Python 3",
   "language": "python",
   "name": "python3"
  },
  "language_info": {
   "codemirror_mode": {
    "name": "ipython",
    "version": 3
   },
   "file_extension": ".py",
   "mimetype": "text/x-python",
   "name": "python",
   "nbconvert_exporter": "python",
   "pygments_lexer": "ipython3",
   "version": "3.7.4"
  }
 },
 "nbformat": 4,
 "nbformat_minor": 4
}
