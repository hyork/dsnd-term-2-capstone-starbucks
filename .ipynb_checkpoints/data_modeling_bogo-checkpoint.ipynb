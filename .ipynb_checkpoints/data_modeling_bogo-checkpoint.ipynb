{
 "cells": [
  {
   "cell_type": "markdown",
   "metadata": {},
   "source": [
    "# Data Modeling - BOGO offer type"
   ]
  },
  {
   "cell_type": "markdown",
   "metadata": {},
   "source": [
    "This notebook uses the datasets cleaned from the Data Wrangling step to perform predictive data modeling. The goal is to predict whether a Reward program user would complete a BOGO offer. "
   ]
  },
  {
   "cell_type": "markdown",
   "metadata": {},
   "source": [
    "### Evaluation Metrics"
   ]
  },
  {
   "cell_type": "markdown",
   "metadata": {},
   "source": [
    "For this type of classification model, we do not need to concern about **False Positives (Type 1 error)** (users we predict as responding yes to offer but actually would respond no) as it is okay to send offers to more people in a promotion, as the company has much to gain when users complete offers and make purchases. \n",
    "\n",
    "We would, however, want to minimize **False Negatives (Type 2 error)** (users who are predicted as responding no to the offer but actually would complete the offers). We would definitely not want to exclude the offer from those who would complete it and make purchases as that would mean loss of sure revenue. \n",
    "\n",
    "In order to minimize False Negatives, we should select a model that has high Recall score, meaning that most of the yes responses are correctly recognized (low False Negatives) but there might be a lot of false Yes responses."
   ]
  },
  {
   "cell_type": "markdown",
   "metadata": {},
   "source": [
    "### Import data and libraries"
   ]
  },
  {
   "cell_type": "code",
   "execution_count": 124,
   "metadata": {},
   "outputs": [],
   "source": [
    "import pandas as pd\n",
    "import numpy as np\n",
    "import matplotlib.pyplot as plt\n",
    "import seaborn as sns\n",
    "import scipy.stats as stats\n",
    "from sklearn.preprocessing import StandardScaler\n",
    "from sklearn.model_selection import train_test_split\n",
    "\n",
    "# Import two metrics from sklearn - fbeta_score and accuracy_score\n",
    "from sklearn.metrics import fbeta_score, accuracy_score, precision_score, recall_score, classification_report\n",
    "from sklearn.metrics import precision_recall_fscore_support\n",
    "from sklearn.metrics import auc\n",
    "from sklearn.metrics import plot_confusion_matrix\n",
    "\n",
    "# Import models\n",
    "from sklearn.svm import SVC\n",
    "from sklearn.ensemble import GradientBoostingClassifier, RandomForestClassifier, AdaBoostClassifier\n",
    "from sklearn.linear_model import LogisticRegression\n",
    "from sklearn.model_selection import cross_val_predict, GridSearchCV\n",
    "\n",
    "# Import metrics\n",
    "from sklearn.metrics import confusion_matrix, roc_auc_score, plot_roc_curve, plot_precision_recall_curve, precision_recall_curve, average_precision_score"
   ]
  },
  {
   "cell_type": "code",
   "execution_count": 38,
   "metadata": {},
   "outputs": [],
   "source": [
    "# read in the csv files\n",
    "offer_response = pd.read_csv('data/offer_response.csv')\n",
    "user = pd.read_csv('data/profile_cleaned.csv')"
   ]
  },
  {
   "cell_type": "code",
   "execution_count": 39,
   "metadata": {},
   "outputs": [],
   "source": [
    "# Merge profile and number of offers completed\n",
    "df = pd.merge(offer_response, \n",
    "             user, \n",
    "             how='left', \n",
    "             on=['person']).dropna().replace({True:1,False:0}).drop(columns=['person'])"
   ]
  },
  {
   "cell_type": "code",
   "execution_count": 40,
   "metadata": {},
   "outputs": [],
   "source": [
    "bogo = df[df.offer_type=='bogo']"
   ]
  },
  {
   "cell_type": "code",
   "execution_count": 41,
   "metadata": {},
   "outputs": [],
   "source": [
    "# Convert categorical variables into dummy variables\n",
    "clean_bogo = pd.get_dummies(bogo, columns=['gender']).drop_duplicates().drop(columns=['offer_type'])"
   ]
  },
  {
   "cell_type": "code",
   "execution_count": 42,
   "metadata": {},
   "outputs": [
    {
     "name": "stdout",
     "output_type": "stream",
     "text": [
      "Training set has 9092 samples.\n",
      "Testing set has 2273 samples.\n"
     ]
    }
   ],
   "source": [
    "# Split features and dependent variable into training and test sets\n",
    "y = clean_bogo['completed_offer']\n",
    "X = clean_bogo.drop(['completed_offer'], axis=1)\n",
    "\n",
    "X_train, X_test, y_train, y_test = train_test_split(X, \n",
    "                                                    y, \n",
    "                                                    test_size = 0.2, \n",
    "                                                    random_state = 42)\n",
    "\n",
    "# Show the results of the split\n",
    "print(\"Training set has {} samples.\".format(X_train.shape[0]))\n",
    "print(\"Testing set has {} samples.\".format(X_test.shape[0]))"
   ]
  },
  {
   "cell_type": "code",
   "execution_count": 43,
   "metadata": {},
   "outputs": [],
   "source": [
    "# feature scaling\n",
    "scaler = StandardScaler()\n",
    "X_train = scaler.fit_transform(X_train)\n",
    "X_test = scaler.transform(X_test)"
   ]
  },
  {
   "cell_type": "code",
   "execution_count": 78,
   "metadata": {},
   "outputs": [],
   "source": [
    "# Print evaluation metrics for a model (source: Udacity)\n",
    "def print_metrics(y_true, preds, model_name=None):\n",
    "    '''\n",
    "    INPUT:\n",
    "    y_true - the y values that are actually true in the dataset (numpy array or pandas series)\n",
    "    preds - the predictions for those values from some model (numpy array or pandas series)\n",
    "    model_name - (str - optional) a name associated with the model if you would like to add it to the print statements \n",
    "    \n",
    "    OUTPUT:\n",
    "    None - prints the accuracy, precision, recall, and F1 score\n",
    "    '''\n",
    "    if model_name == None:\n",
    "        print('Accuracy score: ', format(accuracy_score(y_true, preds)))\n",
    "        print('Precision score: ', format(precision_score(y_true, preds)))\n",
    "        print('Recall score: ', format(recall_score(y_true, preds)))\n",
    "        print('F1 score: ', format(fbeta_score(y_true, preds, beta=1)))\n",
    "        print('\\n\\n')\n",
    "    \n",
    "    else:\n",
    "        print('Accuracy score for ' + model_name + ' :' , format(accuracy_score(y_true, preds)))\n",
    "        print('Precision score ' + model_name + ' :', format(precision_score(y_true, preds)))\n",
    "        print('Recall score ' + model_name + ' :', format(recall_score(y_true, preds)))\n",
    "        print('F1 score ' + model_name + ' :', format(fbeta_score(y_true, preds,beta=1)))\n",
    "        print('\\n\\n')"
   ]
  },
  {
   "cell_type": "markdown",
   "metadata": {},
   "source": [
    "### Base Model: Logistic Regression"
   ]
  },
  {
   "cell_type": "code",
   "execution_count": 123,
   "metadata": {},
   "outputs": [
    {
     "name": "stdout",
     "output_type": "stream",
     "text": [
      "Accuracy score for Logistics Regression : 0.6832380114386274\n",
      "Precision score Logistics Regression : 0.6984126984126984\n",
      "Recall score Logistics Regression : 0.7814671814671814\n",
      "F1 score Logistics Regression : 0.7376093294460642\n",
      "\n",
      "\n",
      "\n",
      "Confusion matrix, without normalization\n",
      "[[ 541  437]\n",
      " [ 283 1012]]\n",
      "Normalized confusion matrix\n",
      "[[0.55 0.45]\n",
      " [0.22 0.78]]\n"
     ]
    },
    {
     "data": {
      "image/png": "[encoded data removed]",
      "text/plain": [
       "<Figure size 432x288 with 2 Axes>"
      ]
     },
     "metadata": {
      "needs_background": "light"
     },
     "output_type": "display_data"
    },
    {
     "data": {
      "image/png": "[encoded data removed]",
      "text/plain": [
       "<Figure size 432x288 with 2 Axes>"
      ]
     },
     "metadata": {
      "needs_background": "light"
     },
     "output_type": "display_data"
    }
   ],
   "source": [
    "log_reg = LogisticRegression(C=59, penalty='l2')\n",
    "log_reg.fit(X_train,y_train)\n",
    "y_pred = log_reg.predict(X_test)\n",
    "\n",
    "# Print the scores\n",
    "print_metrics(y_test, y_pred,'Logistics Regression')\n",
    "\n",
    "class_names = ['Respond No', 'Respond Yes']\n",
    "np.set_printoptions(precision=2)\n",
    "\n",
    "# Plot non-normalized confusion matrix\n",
    "titles_options = [(\"Confusion matrix, without normalization\", None),\n",
    "                  (\"Normalized confusion matrix\", 'true')]\n",
    "for title, normalize in titles_options:\n",
    "    disp = plot_confusion_matrix(log_reg, X_test, y_test,\n",
    "                                 display_labels=class_names,\n",
    "                                 cmap=plt.cm.Blues,\n",
    "                                 normalize=normalize)\n",
    "    disp.ax_.set_title(title)\n",
    "\n",
    "    print(title)\n",
    "    print(disp.confusion_matrix)\n",
    "\n",
    "plt.show()"
   ]
  },
  {
   "cell_type": "markdown",
   "metadata": {},
   "source": [
    "The Logistic Model has a higher Recall than Precision, which is what we would want in our final model. The Recall score for the model is 0.78, and we'll use this score to compare this model to the next models."
   ]
  },
  {
   "cell_type": "markdown",
   "metadata": {},
   "source": [
    "### SVM Model"
   ]
  },
  {
   "cell_type": "code",
   "execution_count": 81,
   "metadata": {},
   "outputs": [
    {
     "data": {
      "text/plain": [
       "SVC(C=1.0, break_ties=False, cache_size=200, class_weight=None, coef0=0.0,\n",
       "    decision_function_shape='ovr', degree=3, gamma='scale', kernel='rbf',\n",
       "    max_iter=-1, probability=False, random_state=42, shrinking=True, tol=0.001,\n",
       "    verbose=False)"
      ]
     },
     "execution_count": 81,
     "metadata": {},
     "output_type": "execute_result"
    }
   ],
   "source": [
    "# Initiate and fit SVC model\n",
    "svc = SVC(random_state=42)\n",
    "svc.fit(X_train, y_train)"
   ]
  },
  {
   "cell_type": "code",
   "execution_count": 82,
   "metadata": {},
   "outputs": [
    {
     "name": "stdout",
     "output_type": "stream",
     "text": [
      "Accuracy score for SVC : 0.6959964804223493\n",
      "Precision score SVC : 0.6885143570536829\n",
      "Recall score SVC : 0.8517374517374517\n",
      "F1 score SVC : 0.7614773904038661\n",
      "\n",
      "\n",
      "\n",
      "\n",
      "Confusion matrix, without normalization\n",
      "[[ 479  499]\n",
      " [ 192 1103]]\n",
      "Normalized confusion matrix\n",
      "[[0.49 0.51]\n",
      " [0.15 0.85]]\n"
     ]
    },
    {
     "data": {
      "image/png": "[encoded data removed]",
      "text/plain": [
       "<Figure size 432x288 with 2 Axes>"
      ]
     },
     "metadata": {
      "needs_background": "light"
     },
     "output_type": "display_data"
    },
    {
     "data": {
      "image/png": "[encoded data removed]",
      "text/plain": [
       "<Figure size 432x288 with 2 Axes>"
      ]
     },
     "metadata": {
      "needs_background": "light"
     },
     "output_type": "display_data"
    }
   ],
   "source": [
    "y_pred = svc.predict(X_test)\n",
    "\n",
    "# Print the scores\n",
    "print_metrics(y_test,y_pred,'SVC')\n",
    "print()\n",
    "\n",
    "class_names = ['Respond No', 'Respond Yes']\n",
    "np.set_printoptions(precision=2)\n",
    "\n",
    "# Plot non-normalized confusion matrix\n",
    "titles_options = [(\"Confusion matrix, without normalization\", None),\n",
    "                  (\"Normalized confusion matrix\", 'true')]\n",
    "for title, normalize in titles_options:\n",
    "    disp = plot_confusion_matrix(svc, X_test, y_test,\n",
    "                                 display_labels=class_names,\n",
    "                                 cmap=plt.cm.Blues,\n",
    "                                 normalize=normalize)\n",
    "    disp.ax_.set_title(title)\n",
    "\n",
    "    print(title)\n",
    "    print(disp.confusion_matrix)\n",
    "\n",
    "plt.show()"
   ]
  },
  {
   "cell_type": "markdown",
   "metadata": {},
   "source": [
    "SVC Model has a much higher Recall score (0.85) than the Logistic Regression model's (0.78). Since we're optimizing for high Recall score, this means that SVC model would be a better option than Logistic Regression model."
   ]
  },
  {
   "cell_type": "markdown",
   "metadata": {},
   "source": [
    "### Ensemble Models"
   ]
  },
  {
   "cell_type": "code",
   "execution_count": 117,
   "metadata": {},
   "outputs": [],
   "source": [
    "# Initiate ensemble models\n",
    "rf_mod = RandomForestClassifier()\n",
    "ada_mod = AdaBoostClassifier()\n",
    "gb_mod = GradientBoostingClassifier()"
   ]
  },
  {
   "cell_type": "code",
   "execution_count": 118,
   "metadata": {},
   "outputs": [
    {
     "data": {
      "text/plain": [
       "GradientBoostingClassifier(ccp_alpha=0.0, criterion='friedman_mse', init=None,\n",
       "                           learning_rate=0.1, loss='deviance', max_depth=3,\n",
       "                           max_features=None, max_leaf_nodes=None,\n",
       "                           min_impurity_decrease=0.0, min_impurity_split=None,\n",
       "                           min_samples_leaf=1, min_samples_split=2,\n",
       "                           min_weight_fraction_leaf=0.0, n_estimators=100,\n",
       "                           n_iter_no_change=None, presort='deprecated',\n",
       "                           random_state=None, subsample=1.0, tol=0.0001,\n",
       "                           validation_fraction=0.1, verbose=0,\n",
       "                           warm_start=False)"
      ]
     },
     "execution_count": 118,
     "metadata": {},
     "output_type": "execute_result"
    }
   ],
   "source": [
    "# Fit models\n",
    "rf_mod.fit(X_train, y_train)\n",
    "ada_mod.fit(X_train, y_train)\n",
    "gb_mod.fit(X_train, y_train)"
   ]
  },
  {
   "cell_type": "code",
   "execution_count": 119,
   "metadata": {},
   "outputs": [],
   "source": [
    "# Predict responses\n",
    "rf_y_pred = rf_mod.predict(X_test)\n",
    "ada_y_pred = ada_mod.predict(X_test)\n",
    "gb_y_pred = gb_mod.predict(X_test)"
   ]
  },
  {
   "cell_type": "code",
   "execution_count": 120,
   "metadata": {},
   "outputs": [
    {
     "name": "stdout",
     "output_type": "stream",
     "text": [
      "Accuracy score for Random Forest : 0.546854377474703\n",
      "Precision score Random Forest : 0.5928521373510862\n",
      "Recall score Random Forest : 0.6532818532818533\n",
      "F1 score Random Forest : 0.6216017634092579\n",
      "\n",
      "\n",
      "\n",
      "Accuracy score for AdaBoost : 0.6920369555653322\n",
      "Precision score AdaBoost : 0.6837554045707227\n",
      "Recall score AdaBoost : 0.8548262548262548\n",
      "F1 score AdaBoost : 0.759780370624571\n",
      "\n",
      "\n",
      "\n",
      "Accuracy score for Gradien Boost : 0.6858776946766388\n",
      "Precision score Gradien Boost : 0.6830497794580971\n",
      "Recall score Gradien Boost : 0.8370656370656371\n",
      "F1 score Gradien Boost : 0.7522553782095766\n",
      "\n",
      "\n",
      "\n"
     ]
    }
   ],
   "source": [
    "# Print the scores\n",
    "print_metrics(y_test, rf_y_pred, 'Random Forest')\n",
    "print_metrics(y_test, ada_y_pred, 'AdaBoost')\n",
    "print_metrics(y_test, gb_y_pred, 'Gradien Boost')"
   ]
  },
  {
   "cell_type": "markdown",
   "metadata": {},
   "source": [
    "### Model Comparison"
   ]
  },
  {
   "cell_type": "markdown",
   "metadata": {},
   "source": [
    "Among all models we're built for this dataset, AdaBoost model gives us the highest F1-score along with SVC (F-beta score is takes both precision and recall into consideration). Besides Random Forest Classifier, most of the models selected perform equally well. "
   ]
  },
  {
   "cell_type": "markdown",
   "metadata": {},
   "source": [
    "|           | Logistic Regression | SVC  | Random Forest | AdaBoost | Gradient Boost |\n",
    "|-----------|---------------------|------|---------------|----------|----------------|\n",
    "| Accuracy  | 0.68                | 0.70 | 0.55          | 0.69     | 0.69           |\n",
    "| Precision | 0.70                | 0.69 | 0.59          | 0.68     | 0.68           |\n",
    "| Recall    | 0.78                | 0.85 | 0.66          | 0.85     | 0.84           |\n",
    "| F1        | 0.74                | 0.76 | 0.62          | 0.76     | 0.75           |"
   ]
  },
  {
   "cell_type": "code",
   "execution_count": 121,
   "metadata": {},
   "outputs": [
    {
     "data": {
      "image/png": "[encoded data removed]",
      "text/plain": [
       "<Figure size 432x288 with 1 Axes>"
      ]
     },
     "metadata": {
      "needs_background": "light"
     },
     "output_type": "display_data"
    }
   ],
   "source": [
    "# Plot ROC curve\n",
    "log_disp = plot_roc_curve(log_reg, X_test, y_test)\n",
    "ax = plt.gca()\n",
    "svc_disp = plot_roc_curve(svc, X_test, y_test, ax=ax, alpha=0.8)\n",
    "ada_disp = plot_roc_curve(ada_mod, X_test, y_test, ax=ax, alpha=0.8)\n",
    "gb_disp = plot_roc_curve(gb_mod, X_test, y_test, ax=ax, alpha=0.8)\n",
    "rf_disp = plot_roc_curve(rf_mod, X_test, y_test, ax=ax, alpha=0.8)\n",
    "plt.show()"
   ]
  },
  {
   "cell_type": "markdown",
   "metadata": {},
   "source": [
    "### Hyper-parameter tuning for SVC and AdaBoost"
   ]
  },
  {
   "cell_type": "markdown",
   "metadata": {},
   "source": [
    "#### Tune SVC"
   ]
  },
  {
   "cell_type": "code",
   "execution_count": 112,
   "metadata": {},
   "outputs": [
    {
     "name": "stdout",
     "output_type": "stream",
     "text": [
      "# Tuning hyper-parameters for recall score\n",
      "\n",
      "Best parameters set found on development set:\n",
      "\n",
      "{'C': 1000, 'gamma': 0.001, 'kernel': 'rbf'}\n",
      "\n",
      "Grid scores on development set:\n",
      "\n",
      "0.606 (+/-0.012) for {'C': 0.1, 'gamma': 1, 'kernel': 'rbf'}\n",
      "0.668 (+/-0.017) for {'C': 0.1, 'gamma': 0.1, 'kernel': 'rbf'}\n",
      "0.670 (+/-0.012) for {'C': 0.1, 'gamma': 0.01, 'kernel': 'rbf'}\n",
      "0.613 (+/-0.015) for {'C': 0.1, 'gamma': 0.001, 'kernel': 'rbf'}\n",
      "0.500 (+/-0.000) for {'C': 0.1, 'gamma': 0.0001, 'kernel': 'rbf'}\n",
      "0.623 (+/-0.014) for {'C': 1, 'gamma': 1, 'kernel': 'rbf'}\n",
      "0.668 (+/-0.013) for {'C': 1, 'gamma': 0.1, 'kernel': 'rbf'}\n",
      "0.673 (+/-0.015) for {'C': 1, 'gamma': 0.01, 'kernel': 'rbf'}\n",
      "0.670 (+/-0.012) for {'C': 1, 'gamma': 0.001, 'kernel': 'rbf'}\n",
      "0.616 (+/-0.016) for {'C': 1, 'gamma': 0.0001, 'kernel': 'rbf'}\n",
      "0.522 (+/-0.018) for {'C': 10, 'gamma': 1, 'kernel': 'rbf'}\n",
      "0.662 (+/-0.022) for {'C': 10, 'gamma': 0.1, 'kernel': 'rbf'}\n",
      "0.673 (+/-0.012) for {'C': 10, 'gamma': 0.01, 'kernel': 'rbf'}\n",
      "0.672 (+/-0.013) for {'C': 10, 'gamma': 0.001, 'kernel': 'rbf'}\n",
      "0.671 (+/-0.017) for {'C': 10, 'gamma': 0.0001, 'kernel': 'rbf'}\n",
      "0.499 (+/-0.019) for {'C': 100, 'gamma': 1, 'kernel': 'rbf'}\n",
      "0.642 (+/-0.016) for {'C': 100, 'gamma': 0.1, 'kernel': 'rbf'}\n",
      "0.671 (+/-0.019) for {'C': 100, 'gamma': 0.01, 'kernel': 'rbf'}\n",
      "0.674 (+/-0.015) for {'C': 100, 'gamma': 0.001, 'kernel': 'rbf'}\n",
      "0.674 (+/-0.015) for {'C': 100, 'gamma': 0.0001, 'kernel': 'rbf'}\n",
      "0.499 (+/-0.019) for {'C': 1000, 'gamma': 1, 'kernel': 'rbf'}\n",
      "0.605 (+/-0.020) for {'C': 1000, 'gamma': 0.1, 'kernel': 'rbf'}\n",
      "0.668 (+/-0.021) for {'C': 1000, 'gamma': 0.01, 'kernel': 'rbf'}\n",
      "0.677 (+/-0.016) for {'C': 1000, 'gamma': 0.001, 'kernel': 'rbf'}\n",
      "0.673 (+/-0.013) for {'C': 1000, 'gamma': 0.0001, 'kernel': 'rbf'}\n",
      "\n",
      "Detailed classification report:\n",
      "\n",
      "The model is trained on the full development set.\n",
      "The scores are computed on the full evaluation set.\n",
      "\n",
      "Accuracy score:  0.6946766388033436\n",
      "Precision score:  0.6840171463563993\n",
      "Recall score:  0.8625482625482626\n",
      "F1 score:  0.7629781420765028\n",
      "\n",
      "\n",
      "\n",
      "\n"
     ]
    }
   ],
   "source": [
    "# Set the parameters by cross-validation\n",
    "tuned_parameters = {'C': [0.1, 1, 10, 100, 1000],  \n",
    "              'gamma': [1, 0.1, 0.01, 0.001, 0.0001], \n",
    "              'kernel': ['rbf']} \n",
    "\n",
    "print(\"# Tuning hyper-parameters for recall score\")\n",
    "print()\n",
    "\n",
    "clf = GridSearchCV(\n",
    "    SVC(), tuned_parameters, scoring='recall_macro')\n",
    "clf.fit(X_train, y_train)\n",
    "\n",
    "print(\"Best parameters set found on development set:\")\n",
    "print()\n",
    "print(clf.best_params_)\n",
    "print()\n",
    "print(\"Grid scores on development set:\")\n",
    "print()\n",
    "means = clf.cv_results_['mean_test_score']\n",
    "stds = clf.cv_results_['std_test_score']\n",
    "for mean, std, params in zip(means, stds, clf.cv_results_['params']):\n",
    "    print(\"%0.3f (+/-%0.03f) for %r\"\n",
    "          % (mean, std * 2, params))\n",
    "print()\n",
    "\n",
    "print(\"Detailed classification report:\")\n",
    "print()\n",
    "print(\"The model is trained on the full development set.\")\n",
    "print(\"The scores are computed on the full evaluation set.\")\n",
    "print()\n",
    "y_true, y_pred = y_test, clf.predict(X_test)\n",
    "print_metrics(y_true, y_pred)\n",
    "print()"
   ]
  },
  {
   "cell_type": "code",
   "execution_count": 113,
   "metadata": {},
   "outputs": [
    {
     "name": "stdout",
     "output_type": "stream",
     "text": [
      "Accuracy score for Optimized SVC : 0.6946766388033436\n",
      "Precision score Optimized SVC : 0.6840171463563993\n",
      "Recall score Optimized SVC : 0.8625482625482626\n",
      "F1 score Optimized SVC : 0.7629781420765028\n",
      "\n",
      "\n",
      "\n"
     ]
    }
   ],
   "source": [
    "tuned_svc = SVC(C=1000,gamma=0.001,kernel='rbf',random_state=42)\n",
    "tuned_svc.fit(X_train, y_train)\n",
    "tuned_svc_y_pred = tuned_ada.predict(X_test)\n",
    "print_metrics(y_test, tuned_svc_y_pred, 'Optimized SVC')"
   ]
  },
  {
   "cell_type": "markdown",
   "metadata": {},
   "source": [
    "#### Tune AdaBoost"
   ]
  },
  {
   "cell_type": "code",
   "execution_count": 103,
   "metadata": {},
   "outputs": [
    {
     "name": "stdout",
     "output_type": "stream",
     "text": [
      "# Tuning hyper-parameters for recall score\n",
      "\n",
      "dict_keys(['algorithm', 'base_estimator', 'learning_rate', 'n_estimators', 'random_state'])\n",
      "Best parameters set found on development set:\n",
      "\n",
      "{'algorithm': 'SAMME.R', 'learning_rate': 0.1, 'n_estimators': 100}\n",
      "\n",
      "Grid scores on development set:\n",
      "\n",
      "0.651 (+/-0.022) for {'algorithm': 'SAMME', 'learning_rate': 0.01, 'n_estimators': 50}\n",
      "0.607 (+/-0.041) for {'algorithm': 'SAMME', 'learning_rate': 0.01, 'n_estimators': 100}\n",
      "0.599 (+/-0.014) for {'algorithm': 'SAMME', 'learning_rate': 0.05, 'n_estimators': 50}\n",
      "0.599 (+/-0.014) for {'algorithm': 'SAMME', 'learning_rate': 0.05, 'n_estimators': 100}\n",
      "0.599 (+/-0.014) for {'algorithm': 'SAMME', 'learning_rate': 0.1, 'n_estimators': 50}\n",
      "0.636 (+/-0.040) for {'algorithm': 'SAMME', 'learning_rate': 0.1, 'n_estimators': 100}\n",
      "0.662 (+/-0.024) for {'algorithm': 'SAMME', 'learning_rate': 0.3, 'n_estimators': 50}\n",
      "0.661 (+/-0.022) for {'algorithm': 'SAMME', 'learning_rate': 0.3, 'n_estimators': 100}\n",
      "0.662 (+/-0.024) for {'algorithm': 'SAMME', 'learning_rate': 1, 'n_estimators': 50}\n",
      "0.662 (+/-0.024) for {'algorithm': 'SAMME', 'learning_rate': 1, 'n_estimators': 100}\n",
      "0.672 (+/-0.028) for {'algorithm': 'SAMME.R', 'learning_rate': 0.01, 'n_estimators': 50}\n",
      "0.672 (+/-0.028) for {'algorithm': 'SAMME.R', 'learning_rate': 0.01, 'n_estimators': 100}\n",
      "0.671 (+/-0.024) for {'algorithm': 'SAMME.R', 'learning_rate': 0.05, 'n_estimators': 50}\n",
      "0.672 (+/-0.024) for {'algorithm': 'SAMME.R', 'learning_rate': 0.05, 'n_estimators': 100}\n",
      "0.671 (+/-0.023) for {'algorithm': 'SAMME.R', 'learning_rate': 0.1, 'n_estimators': 50}\n",
      "0.673 (+/-0.024) for {'algorithm': 'SAMME.R', 'learning_rate': 0.1, 'n_estimators': 100}\n",
      "0.669 (+/-0.020) for {'algorithm': 'SAMME.R', 'learning_rate': 0.3, 'n_estimators': 50}\n",
      "0.671 (+/-0.022) for {'algorithm': 'SAMME.R', 'learning_rate': 0.3, 'n_estimators': 100}\n",
      "0.667 (+/-0.021) for {'algorithm': 'SAMME.R', 'learning_rate': 1, 'n_estimators': 50}\n",
      "0.667 (+/-0.021) for {'algorithm': 'SAMME.R', 'learning_rate': 1, 'n_estimators': 100}\n",
      "\n",
      "Detailed classification report:\n",
      "\n",
      "The model is trained on the full development set.\n",
      "The scores are computed on the full evaluation set.\n",
      "\n",
      "Accuracy score:  0.6946766388033436\n",
      "Precision score:  0.6840171463563993\n",
      "Recall score:  0.8625482625482626\n",
      "F1 score:  0.7629781420765028\n",
      "\n",
      "\n",
      "\n",
      "\n"
     ]
    }
   ],
   "source": [
    "# Set the parameters by cross-validation\n",
    "tuned_parameters = {\n",
    " 'n_estimators': [50, 100],\n",
    " 'learning_rate' : [0.01,0.05,0.1,0.3,1],\n",
    " 'algorithm' : ['SAMME', 'SAMME.R']\n",
    " }\n",
    "\n",
    "print(\"# Tuning hyper-parameters for recall score\")\n",
    "print()\n",
    "\n",
    "print(AdaBoostClassifier().get_params().keys())\n",
    "\n",
    "clf = GridSearchCV(\n",
    "    AdaBoostClassifier(), tuned_parameters, scoring='recall_macro')\n",
    "clf.fit(X_train, y_train)\n",
    "\n",
    "print(\"Best parameters set found on development set:\")\n",
    "print()\n",
    "print(clf.best_params_)\n",
    "print()\n",
    "print(\"Grid scores on development set:\")\n",
    "print()\n",
    "means = clf.cv_results_['mean_test_score']\n",
    "stds = clf.cv_results_['std_test_score']\n",
    "for mean, std, params in zip(means, stds, clf.cv_results_['params']):\n",
    "    print(\"%0.3f (+/-%0.03f) for %r\"\n",
    "          % (mean, std * 2, params))\n",
    "print()\n",
    "\n",
    "print(\"Detailed classification report:\")\n",
    "print()\n",
    "print(\"The model is trained on the full development set.\")\n",
    "print(\"The scores are computed on the full evaluation set.\")\n",
    "print()\n",
    "y_true, y_pred = y_test, clf.predict(X_test)\n",
    "print_metrics(y_true, y_pred)\n",
    "print()"
   ]
  },
  {
   "cell_type": "code",
   "execution_count": 110,
   "metadata": {},
   "outputs": [
    {
     "name": "stdout",
     "output_type": "stream",
     "text": [
      "Accuracy score for Optimized AdaBoost : 0.6946766388033436\n",
      "Precision score Optimized AdaBoost : 0.6840171463563993\n",
      "Recall score Optimized AdaBoost : 0.8625482625482626\n",
      "F1 score Optimized AdaBoost : 0.7629781420765028\n",
      "\n",
      "\n",
      "\n"
     ]
    }
   ],
   "source": [
    "tuned_ada = AdaBoostClassifier(algorithm='SAMME.R',learning_rate=0.1,n_estimators=100,random_state=42)\n",
    "tuned_ada.fit(X_train, y_train)\n",
    "tuned_ada_y_pred = tuned_ada.predict(X_test)\n",
    "print_metrics(y_test, tuned_ada_y_pred, 'Optimized AdaBoost')"
   ]
  },
  {
   "cell_type": "markdown",
   "metadata": {},
   "source": [
    "**Compare the tuned models**"
   ]
  },
  {
   "cell_type": "markdown",
   "metadata": {},
   "source": [
    "|           | Tuned SVC | Tuned AdaBoost |\n",
    "|-----------|-----------|----------------|\n",
    "| Accuracy  | 0.69      | 0.69           |\n",
    "| Precision | 0.68      | 0.68           |\n",
    "| Recall    | 0.86      | 0.86           |\n",
    "| F1        | 0.76      | 0.76           |"
   ]
  },
  {
   "cell_type": "markdown",
   "metadata": {},
   "source": [
    "#### Plot ROC curves"
   ]
  },
  {
   "cell_type": "code",
   "execution_count": 115,
   "metadata": {},
   "outputs": [
    {
     "data": {
      "image/png": "[encoded data removed]",
      "text/plain": [
       "<Figure size 432x288 with 1 Axes>"
      ]
     },
     "metadata": {
      "needs_background": "light"
     },
     "output_type": "display_data"
    }
   ],
   "source": [
    "tuned_svc_disp = plot_roc_curve(tuned_svc, X_test, y_test)\n",
    "ax = plt.gca()\n",
    "tuned_ada_disp = plot_roc_curve(tuned_ada, X_test, y_test,ax=ax, alpha=0.8)\n",
    "plt.show()"
   ]
  },
  {
   "cell_type": "code",
   "execution_count": null,
   "metadata": {},
   "outputs": [],
   "source": []
  }
 ],
 "metadata": {
  "kernelspec": {
   "display_name": "Python 3",
   "language": "python",
   "name": "python3"
  },
  "language_info": {
   "codemirror_mode": {
    "name": "ipython",
    "version": 3
   },
   "file_extension": ".py",
   "mimetype": "text/x-python",
   "name": "python",
   "nbconvert_exporter": "python",
   "pygments_lexer": "ipython3",
   "version": "3.7.4"
  }
 },
 "nbformat": 4,
 "nbformat_minor": 4
}
