{
 "cells": [
  {
   "cell_type": "markdown",
   "metadata": {},
   "source": [
    "# Data Wrangling - Profile data"
   ]
  },
  {
   "cell_type": "markdown",
   "metadata": {},
   "source": [
    "The purpose of this notebook is to prepare a clean and complete dataset about the Rewards app users. \n",
    "The steps are:\n",
    "1. Handle missing data\n",
    "2. Converting datetime column to duration column\n",
    "3. Add calculate columns"
   ]
  },
  {
   "cell_type": "markdown",
   "metadata": {},
   "source": [
    "### Import libraries and datasets "
   ]
  },
  {
   "cell_type": "code",
   "execution_count": 2,
   "metadata": {},
   "outputs": [],
   "source": [
    "import pandas as pd\n",
    "import numpy as np\n",
    "import json\n",
    "from pandas.io.json import json_normalize\n",
    "\n",
    "# read in the json files\n",
    "portfolio = pd.read_json('data/portfolio.json', orient='records', lines=True)\n",
    "profile = pd.read_json('data/profile.json', orient='records', lines=True)\n",
    "transcript = pd.read_json('data/transcript.json', orient='records', lines=True)"
   ]
  },
  {
   "cell_type": "markdown",
   "metadata": {},
   "source": [
    "## Explore and handle missing data"
   ]
  },
  {
   "cell_type": "code",
   "execution_count": null,
   "metadata": {},
   "outputs": [],
   "source": [
    "# TODO: explore missing data"
   ]
  },
  {
   "cell_type": "code",
   "execution_count": 9,
   "metadata": {},
   "outputs": [],
   "source": [
    "# Drop missing values\n",
    "profile_not_null = profile.dropna()"
   ]
  },
  {
   "cell_type": "markdown",
   "metadata": {},
   "source": [
    "## Convert datetime column"
   ]
  },
  {
   "cell_type": "code",
   "execution_count": 6,
   "metadata": {},
   "outputs": [],
   "source": [
    "# Convert column to datetime\n",
    "profile.became_member_on = pd.to_datetime(profile.became_member_on, format='%Y%m%d', errors='coerce')\n",
    "# Create an int column to store length of membership in days (which will be helpful in the model building section)\n",
    "profile['membership_length'] = profile.became_member_on -  pd.to_datetime(\"now\")\n",
    "profile.membership_length = abs(profile.membership_length//np.timedelta64(1,'D'))"
   ]
  },
  {
   "cell_type": "code",
   "execution_count": 7,
   "metadata": {},
   "outputs": [],
   "source": [
    "# Rename 'id' column to 'person'\n",
    "profile = profile.rename(columns={'id':'person'})"
   ]
  },
  {
   "cell_type": "code",
   "execution_count": 8,
   "metadata": {},
   "outputs": [],
   "source": [
    "profile = profile.drop(columns=['became_member_on'])"
   ]
  },
  {
   "cell_type": "markdown",
   "metadata": {},
   "source": [
    "## Create calculated columns "
   ]
  },
  {
   "cell_type": "markdown",
   "metadata": {},
   "source": [
    "Using the transcript data recording users' activities related to the offers, we can add calculated fields to the profile data to assist with the data exploration. \n",
    "\n",
    "Note that these fields give us insights on a user' activities _only_ during the time period that the data is collected and related to this product, and not the user's entire activity history."
   ]
  },
  {
   "cell_type": "markdown",
   "metadata": {},
   "source": [
    "#### Calculated fields\n",
    "1. **total_spending** (float): total amount of money spent by a user on the app.\n",
    "2. **response_rate** (float): number of offers viewed-then-completed by a user divided by number of offers received by that user. \n",
    "3. **total_transactions** (int) : total number of transactions made by a user.\n",
    "4. **avg_spent_per_transaction** (float): average amount of money spent by a user per transaction\n",
    "5. **total_rewards** (int): total number of rewards earned by a user"
   ]
  },
  {
   "cell_type": "code",
   "execution_count": 3,
   "metadata": {},
   "outputs": [
    {
     "name": "stderr",
     "output_type": "stream",
     "text": [
      "/anaconda3/lib/python3.7/site-packages/ipykernel_launcher.py:2: FutureWarning: pandas.io.json.json_normalize is deprecated, use pandas.json_normalize instead\n",
      "  \n"
     ]
    }
   ],
   "source": [
    "# Convert 'value' column into separate columns\n",
    "transcript_values = json_normalize(transcript['value'])\n",
    "transcript = pd.concat([transcript, transcript_values],axis=1)\n",
    "transcript = transcript.drop(columns=['value'])\n",
    "\n",
    "# Combine 'offer id' and 'offer_id' columns\n",
    "transcript['offer_id'] = transcript['offer_id'].fillna(transcript['offer id'])\n",
    "transcript = transcript.drop(columns='offer id')\n",
    "\n",
    "# Separate the dataset into 4 separate dataframes, 'received', 'viewed', 'completed', 'transactions'\n",
    "received = transcript[transcript['event']=='offer received']\n",
    "viewed = transcript[transcript['event']=='offer viewed']\n",
    "completed = transcript[transcript['event']=='offer completed']\n",
    "transaction = transcript[transcript['event']=='transaction']"
   ]
  },
  {
   "cell_type": "code",
   "execution_count": 10,
   "metadata": {},
   "outputs": [],
   "source": [
    "# Calculate total spending of each user\n",
    "total_spending = transaction.groupby(['person'])['amount'].sum().reset_index()\n",
    "\n",
    "# Merge profile and total spending\n",
    "profile_add_spending = pd.merge(profile_not_null, \n",
    "             total_spending, \n",
    "             how='left', \n",
    "             on=['person'])\n",
    "profile_add_spending = profile_add_spending.rename(columns={'amount':'total_spending'})"
   ]
  },
  {
   "cell_type": "code",
   "execution_count": 11,
   "metadata": {},
   "outputs": [],
   "source": [
    "# Number of offers received\n",
    "received_stats = received.groupby(['person'])['time'].agg(['count'])\n",
    "\n",
    "# Merge profile and number of offers received\n",
    "profile_add_received = pd.merge(profile_add_spending, \n",
    "             received_stats, \n",
    "             how='left', \n",
    "             on=['person'])\n",
    "\n",
    "profile_add_received = profile_add_received.rename(columns={'count':'total_received_offers'})"
   ]
  },
  {
   "cell_type": "code",
   "execution_count": 12,
   "metadata": {},
   "outputs": [],
   "source": [
    "# Number of viewed offers during the test\n",
    "viewed_stats = viewed.groupby(['person'])['time'].agg(['count'])\n",
    "\n",
    "# Merge profile and number of offers viewed\n",
    "profile_add_viewed = pd.merge(profile_add_received, \n",
    "             viewed_stats, \n",
    "             how='left', \n",
    "             on=['person'])\n",
    "\n",
    "profile_add_viewed = profile_add_viewed.rename(columns={'count':'total_viewed_offers'})"
   ]
  },
  {
   "cell_type": "code",
   "execution_count": 13,
   "metadata": {},
   "outputs": [],
   "source": [
    "# Number of viewed offers during the test\n",
    "completed_stats = completed.groupby(['person'])['time'].agg(['count'])\n",
    "\n",
    "# Merge profile and number of offers completed\n",
    "profile_add_completed = pd.merge(profile_add_viewed, \n",
    "             completed_stats, \n",
    "             how='left', \n",
    "             on=['person'])\n",
    "\n",
    "profile_add_completed = profile_add_completed.rename(columns={'count':'total_completed_offers'})\n"
   ]
  },
  {
   "cell_type": "code",
   "execution_count": 14,
   "metadata": {},
   "outputs": [],
   "source": [
    "# Calculate total number of offers viewed pers user and total number of offers influenced\n",
    "profile_add_completed = profile_add_completed.fillna(0)\n",
    "profile_add_completed.loc[profile_add_completed['total_viewed_offers'] < profile_add_completed['total_completed_offers'], 'total_influenced_offers'] = profile_add_completed.total_viewed_offers\n",
    "profile_add_completed.loc[profile_add_completed['total_viewed_offers'] >= profile_add_completed['total_completed_offers'], 'total_influenced_offers'] = profile_add_completed.total_completed_offers"
   ]
  },
  {
   "cell_type": "code",
   "execution_count": 15,
   "metadata": {},
   "outputs": [],
   "source": [
    "profile_add_completed['response_rate'] = profile_add_completed.total_influenced_offers/profile_add_completed.total_received_offers"
   ]
  },
  {
   "cell_type": "code",
   "execution_count": 16,
   "metadata": {},
   "outputs": [],
   "source": [
    "profile_add_completed=profile_add_completed.drop(columns=['total_received_offers','total_viewed_offers','total_completed_offers','total_influenced_offers'])"
   ]
  },
  {
   "cell_type": "code",
   "execution_count": 17,
   "metadata": {},
   "outputs": [],
   "source": [
    "# Number of transactions made per person\n",
    "total_transactions = transaction.groupby(['person'])['time'].agg(['count'])\n",
    "\n",
    "# Merge profile and number of offers completed\n",
    "profile_add_transaction = pd.merge(profile_add_completed, \n",
    "             total_transactions, \n",
    "             how='left', \n",
    "             on=['person'])\n",
    "\n",
    "profile_add_transaction = profile_add_transaction.rename(columns={'count':'total_transactions'})"
   ]
  },
  {
   "cell_type": "code",
   "execution_count": 18,
   "metadata": {},
   "outputs": [],
   "source": [
    "# Calculate average amount spent per transaction per user\n",
    "profile_add_transaction['avg_spent_per_transaction'] = profile_add_transaction.total_spending/profile_add_transaction.total_transactions"
   ]
  },
  {
   "cell_type": "code",
   "execution_count": 19,
   "metadata": {},
   "outputs": [],
   "source": [
    "# Total reward points earned per user\n",
    "total_rewards = completed.groupby(['person'])['reward'].agg(['sum'])\n",
    "\n",
    "# Merge profile and number of offers completed\n",
    "profile_add_reward = pd.merge(profile_add_transaction, \n",
    "             total_rewards, \n",
    "             how='left', \n",
    "             on=['person'])\n",
    "\n",
    "profile_add_reward = profile_add_reward.rename(columns={'sum':'total_rewards'})"
   ]
  },
  {
   "cell_type": "markdown",
   "metadata": {},
   "source": [
    "## Cleaned data about users"
   ]
  },
  {
   "cell_type": "code",
   "execution_count": 20,
   "metadata": {},
   "outputs": [],
   "source": [
    "profile_df = profile_add_reward"
   ]
  },
  {
   "cell_type": "code",
   "execution_count": 21,
   "metadata": {},
   "outputs": [
    {
     "data": {
      "text/plain": [
       "14825"
      ]
     },
     "execution_count": 21,
     "metadata": {},
     "output_type": "execute_result"
    }
   ],
   "source": [
    "profile_df.shape[0]"
   ]
  },
  {
   "cell_type": "code",
   "execution_count": 22,
   "metadata": {},
   "outputs": [
    {
     "data": {
      "text/html": [
       "<div>\n",
       "<style scoped>\n",
       "    .dataframe tbody tr th:only-of-type {\n",
       "        vertical-align: middle;\n",
       "    }\n",
       "\n",
       "    .dataframe tbody tr th {\n",
       "        vertical-align: top;\n",
       "    }\n",
       "\n",
       "    .dataframe thead th {\n",
       "        text-align: right;\n",
       "    }\n",
       "</style>\n",
       "<table border=\"1\" class=\"dataframe\">\n",
       "  <thead>\n",
       "    <tr style=\"text-align: right;\">\n",
       "      <th></th>\n",
       "      <th>gender</th>\n",
       "      <th>age</th>\n",
       "      <th>person</th>\n",
       "      <th>income</th>\n",
       "      <th>membership_length</th>\n",
       "      <th>total_spending</th>\n",
       "      <th>response_rate</th>\n",
       "      <th>total_transactions</th>\n",
       "      <th>avg_spent_per_transaction</th>\n",
       "      <th>total_rewards</th>\n",
       "    </tr>\n",
       "  </thead>\n",
       "  <tbody>\n",
       "    <tr>\n",
       "      <th>0</th>\n",
       "      <td>F</td>\n",
       "      <td>55</td>\n",
       "      <td>0610b486422d4921ae7d2bf64640c50b</td>\n",
       "      <td>112000.0</td>\n",
       "      <td>963</td>\n",
       "      <td>77.01</td>\n",
       "      <td>0.000000</td>\n",
       "      <td>3.0</td>\n",
       "      <td>25.670000</td>\n",
       "      <td>5.0</td>\n",
       "    </tr>\n",
       "    <tr>\n",
       "      <th>1</th>\n",
       "      <td>F</td>\n",
       "      <td>75</td>\n",
       "      <td>78afa995795e4d85b5d9ceeca43f5fef</td>\n",
       "      <td>100000.0</td>\n",
       "      <td>1030</td>\n",
       "      <td>159.27</td>\n",
       "      <td>0.750000</td>\n",
       "      <td>7.0</td>\n",
       "      <td>22.752857</td>\n",
       "      <td>20.0</td>\n",
       "    </tr>\n",
       "    <tr>\n",
       "      <th>2</th>\n",
       "      <td>M</td>\n",
       "      <td>68</td>\n",
       "      <td>e2127556f4f64592b11af22de27a7932</td>\n",
       "      <td>70000.0</td>\n",
       "      <td>678</td>\n",
       "      <td>57.73</td>\n",
       "      <td>0.500000</td>\n",
       "      <td>3.0</td>\n",
       "      <td>19.243333</td>\n",
       "      <td>7.0</td>\n",
       "    </tr>\n",
       "    <tr>\n",
       "      <th>3</th>\n",
       "      <td>M</td>\n",
       "      <td>65</td>\n",
       "      <td>389bc3fa690240e798340f5a15918d5c</td>\n",
       "      <td>53000.0</td>\n",
       "      <td>754</td>\n",
       "      <td>36.43</td>\n",
       "      <td>0.833333</td>\n",
       "      <td>3.0</td>\n",
       "      <td>12.143333</td>\n",
       "      <td>19.0</td>\n",
       "    </tr>\n",
       "    <tr>\n",
       "      <th>4</th>\n",
       "      <td>M</td>\n",
       "      <td>58</td>\n",
       "      <td>2eeac8d8feae4a8cad5a6af0499a211d</td>\n",
       "      <td>51000.0</td>\n",
       "      <td>844</td>\n",
       "      <td>15.62</td>\n",
       "      <td>0.333333</td>\n",
       "      <td>4.0</td>\n",
       "      <td>3.905000</td>\n",
       "      <td>2.0</td>\n",
       "    </tr>\n",
       "  </tbody>\n",
       "</table>\n",
       "</div>"
      ],
      "text/plain": [
       "  gender  age                            person    income  membership_length  \\\n",
       "0      F   55  0610b486422d4921ae7d2bf64640c50b  112000.0                963   \n",
       "1      F   75  78afa995795e4d85b5d9ceeca43f5fef  100000.0               1030   \n",
       "2      M   68  e2127556f4f64592b11af22de27a7932   70000.0                678   \n",
       "3      M   65  389bc3fa690240e798340f5a15918d5c   53000.0                754   \n",
       "4      M   58  2eeac8d8feae4a8cad5a6af0499a211d   51000.0                844   \n",
       "\n",
       "   total_spending  response_rate  total_transactions  \\\n",
       "0           77.01       0.000000                 3.0   \n",
       "1          159.27       0.750000                 7.0   \n",
       "2           57.73       0.500000                 3.0   \n",
       "3           36.43       0.833333                 3.0   \n",
       "4           15.62       0.333333                 4.0   \n",
       "\n",
       "   avg_spent_per_transaction  total_rewards  \n",
       "0                  25.670000            5.0  \n",
       "1                  22.752857           20.0  \n",
       "2                  19.243333            7.0  \n",
       "3                  12.143333           19.0  \n",
       "4                   3.905000            2.0  "
      ]
     },
     "execution_count": 22,
     "metadata": {},
     "output_type": "execute_result"
    }
   ],
   "source": [
    "profile_df.head()"
   ]
  },
  {
   "cell_type": "code",
   "execution_count": 23,
   "metadata": {},
   "outputs": [
    {
     "data": {
      "text/plain": [
       "Index(['gender', 'age', 'person', 'income', 'membership_length',\n",
       "       'total_spending', 'response_rate', 'total_transactions',\n",
       "       'avg_spent_per_transaction', 'total_rewards'],\n",
       "      dtype='object')"
      ]
     },
     "execution_count": 23,
     "metadata": {},
     "output_type": "execute_result"
    }
   ],
   "source": [
    "profile_df.columns"
   ]
  },
  {
   "cell_type": "code",
   "execution_count": 24,
   "metadata": {},
   "outputs": [],
   "source": [
    "# Export profile data to csv for further analysis\n",
    "profile_df.to_csv('data/profile_cleaned.csv',index=False) "
   ]
  }
 ],
 "metadata": {
  "kernelspec": {
   "display_name": "Python 3",
   "language": "python",
   "name": "python3"
  },
  "language_info": {
   "codemirror_mode": {
    "name": "ipython",
    "version": 3
   },
   "file_extension": ".py",
   "mimetype": "text/x-python",
   "name": "python",
   "nbconvert_exporter": "python",
   "pygments_lexer": "ipython3",
   "version": "3.7.4"
  }
 },
 "nbformat": 4,
 "nbformat_minor": 4
}
